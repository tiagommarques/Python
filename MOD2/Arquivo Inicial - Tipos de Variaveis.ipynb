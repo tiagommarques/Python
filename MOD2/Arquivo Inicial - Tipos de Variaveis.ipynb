{
 "cells": [
  {
   "cell_type": "code",
   "execution_count": 8,
   "metadata": {},
   "outputs": [
    {
     "name": "stdout",
     "output_type": "stream",
     "text": [
      "O faturamento da loja foi: 1800 reais\n",
      "O custo da loja foi: 500 reais\n",
      "O lucro da loja foi: 1300 reais\n"
     ]
    }
   ],
   "source": [
    "faturamento = 1800\n",
    "custo = 500\n",
    "lucro = faturamento - custo\n",
    "\n",
    "print('O faturamento da loja foi: ' + str(faturamento) + ' reais')\n",
    "print('O custo da loja foi: ' + str(custo) + ' reais')\n",
    "print('O lucro da loja foi: ' + str(lucro) + ' reais')"
   ]
  }
 ],
 "metadata": {
  "kernelspec": {
   "display_name": "Python 3",
   "language": "python",
   "name": "python3"
  },
  "language_info": {
   "codemirror_mode": {
    "name": "ipython",
    "version": 3
   },
   "file_extension": ".py",
   "mimetype": "text/x-python",
   "name": "python",
   "nbconvert_exporter": "python",
   "pygments_lexer": "ipython3",
   "version": "3.11.5"
  }
 },
 "nbformat": 4,
 "nbformat_minor": 4
}
