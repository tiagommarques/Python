{
 "cells": [
  {
   "cell_type": "markdown",
   "id": "a7222466",
   "metadata": {},
   "source": [
    "### F-string\n"
   ]
  },
  {
   "cell_type": "code",
   "execution_count": 6,
   "id": "66c75af4",
   "metadata": {},
   "outputs": [
    {
     "name": "stdout",
     "output_type": "stream",
     "text": [
      "O faturamento foi de 1000 e o lucro de 600\n",
      "O faturamento foi de 1000, o custo foi de 400. Assim o lucro de 600\n"
     ]
    }
   ],
   "source": [
    "faturamento = 1000\n",
    "custo = 400\n",
    "\n",
    "lucro = faturamento - custo\n",
    "\n",
    "# com format\n",
    "print(\"O faturamento foi de {} e o lucro de {}\".format(faturamento, lucro))\n",
    "\n",
    "# com f-string\n",
    "print(f\"O faturamento foi de {faturamento}, o custo foi de {custo}. Assim o lucro de {lucro}\")"
   ]
  },
  {
   "cell_type": "markdown",
   "id": "917d7cc5",
   "metadata": {},
   "source": [
    "### Mudança de tipo de variável\n"
   ]
  },
  {
   "cell_type": "code",
   "execution_count": 2,
   "id": "3c7c40e7",
   "metadata": {},
   "outputs": [
    {
     "ename": "TypeError",
     "evalue": "unsupported operand type(s) for -: 'str' and 'str'",
     "output_type": "error",
     "traceback": [
      "\u001b[1;31m---------------------------------------------------------------------------\u001b[0m",
      "\u001b[1;31mTypeError\u001b[0m                                 Traceback (most recent call last)",
      "\u001b[1;32mc:\\Users\\tiago.marques\\Documents\\Projets\\MOD2\\Fstring e mudança de tipo de variável.ipynb Cell 4\u001b[0m line \u001b[0;36m4\n\u001b[0;32m      <a href='vscode-notebook-cell:/c%3A/Users/tiago.marques/Documents/Projets/MOD2/Fstring%20e%20mudan%C3%A7a%20de%20tipo%20de%20vari%C3%A1vel.ipynb#W3sZmlsZQ%3D%3D?line=0'>1</a>\u001b[0m faturamento \u001b[39m=\u001b[39m \u001b[39minput\u001b[39m(\u001b[39m\"\u001b[39m\u001b[39mInsira o faturamento\u001b[39m\u001b[39m\"\u001b[39m)\n\u001b[0;32m      <a href='vscode-notebook-cell:/c%3A/Users/tiago.marques/Documents/Projets/MOD2/Fstring%20e%20mudan%C3%A7a%20de%20tipo%20de%20vari%C3%A1vel.ipynb#W3sZmlsZQ%3D%3D?line=1'>2</a>\u001b[0m custo \u001b[39m=\u001b[39m \u001b[39minput\u001b[39m(\u001b[39m\"\u001b[39m\u001b[39mInsira o custo\u001b[39m\u001b[39m\"\u001b[39m)\n\u001b[1;32m----> <a href='vscode-notebook-cell:/c%3A/Users/tiago.marques/Documents/Projets/MOD2/Fstring%20e%20mudan%C3%A7a%20de%20tipo%20de%20vari%C3%A1vel.ipynb#W3sZmlsZQ%3D%3D?line=3'>4</a>\u001b[0m lucro \u001b[39m=\u001b[39m faturamento \u001b[39m-\u001b[39;49m custo\n\u001b[0;32m      <a href='vscode-notebook-cell:/c%3A/Users/tiago.marques/Documents/Projets/MOD2/Fstring%20e%20mudan%C3%A7a%20de%20tipo%20de%20vari%C3%A1vel.ipynb#W3sZmlsZQ%3D%3D?line=5'>6</a>\u001b[0m \u001b[39mprint\u001b[39m(lucro)\n\u001b[0;32m      <a href='vscode-notebook-cell:/c%3A/Users/tiago.marques/Documents/Projets/MOD2/Fstring%20e%20mudan%C3%A7a%20de%20tipo%20de%20vari%C3%A1vel.ipynb#W3sZmlsZQ%3D%3D?line=7'>8</a>\u001b[0m \u001b[39m# str -> muda para string\u001b[39;00m\n\u001b[0;32m      <a href='vscode-notebook-cell:/c%3A/Users/tiago.marques/Documents/Projets/MOD2/Fstring%20e%20mudan%C3%A7a%20de%20tipo%20de%20vari%C3%A1vel.ipynb#W3sZmlsZQ%3D%3D?line=8'>9</a>\u001b[0m \u001b[39m# int -> muda para inteiro\u001b[39;00m\n\u001b[0;32m     <a href='vscode-notebook-cell:/c%3A/Users/tiago.marques/Documents/Projets/MOD2/Fstring%20e%20mudan%C3%A7a%20de%20tipo%20de%20vari%C3%A1vel.ipynb#W3sZmlsZQ%3D%3D?line=9'>10</a>\u001b[0m \u001b[39m# float -> muda para float\u001b[39;00m\n",
      "\u001b[1;31mTypeError\u001b[0m: unsupported operand type(s) for -: 'str' and 'str'"
     ]
    }
   ],
   "source": [
    "faturamento = input(\"Insira o faturamento\")\n",
    "custo = input(\"Insira o custo\")\n",
    "\n",
    "lucro = faturamento - custo\n",
    "\n",
    "print(lucro)\n",
    "\n",
    "# str -> muda para string\n",
    "# int -> muda para inteiro\n",
    "# float -> muda para float"
   ]
  }
 ],
 "metadata": {
  "kernelspec": {
   "display_name": "Python 3 (ipykernel)",
   "language": "python",
   "name": "python3"
  },
  "language_info": {
   "codemirror_mode": {
    "name": "ipython",
    "version": 3
   },
   "file_extension": ".py",
   "mimetype": "text/x-python",
   "name": "python",
   "nbconvert_exporter": "python",
   "pygments_lexer": "ipython3",
   "version": "3.11.5"
  }
 },
 "nbformat": 4,
 "nbformat_minor": 5
}
